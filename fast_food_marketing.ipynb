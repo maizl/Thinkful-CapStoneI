{
 "cells": [
  {
   "cell_type": "markdown",
   "id": "06b0bce4",
   "metadata": {},
   "source": [
    "## 1.\tIntroduction\t\n",
    "A fast-food chain company is going to launch a new product in all its stores at different locations in different markets. In order to help the company marketing team choose the most effective promotion strategy from three potential marketing campaigns, the new product is introduced in randomly selected stores at different locations in different markets, using these three different promotion strategies. Weekly sales for each store are collected for the first four weeks. \n",
    "To facilitate the marketing team to make a decision on which promotion to use for maximizing the sales from the new product, I am focused on comparing the difference in weekly sales using every two promotions each time and find the most effective promotion strategy that brings the most weekly sales in the first 4 weeks."
   ]
  },
  {
   "cell_type": "markdown",
   "id": "eb30aa3c",
   "metadata": {},
   "source": [
    "## 2.\tHypothesis\t\n",
    "### Hypothesis 1: for comparing promotion 1 and promotion 2\n",
    "Hypothesis 1:<br>\n",
    "H0: There is no significant difference between the average sales using promotions 1 and 2<br>\n",
    "H1: There is a significant difference between the average sales using promotions 1 and 2<br>\n",
    "### Hypothesis 2: for comparing promotion 1 and promotion 3\n",
    "Hypothesis 2:<br>\n",
    "H0: There is no significant difference between the average sales using promotions 1 and 3<br>\n",
    "H1: There is a significant difference between the average sales using promotions 1 and 3<br>\n",
    "### Hypothesis 3: for comparing promotion 2 and promotion 3\n",
    "Hypothesis 3:<br>\n",
    "H0: There is no significant difference between the average sales using promotions 2 and 3<br>\n",
    "H1: There is a significant difference between the average sales using promotions 2 and 3<br>"
   ]
  },
  {
   "cell_type": "markdown",
   "id": "ad3ccdbe",
   "metadata": {},
   "source": [
    "## 3.\tData\n",
    "The data comes from [Kaggle](https://www.kaggle.com/code/chebotinaa/a-b-testing-of-fast-food-marketing-campaign/data?select=WA_Marketing-Campaign.csv) and contains 548 observations and 7 variables. There are no missing values.<br> \n",
    "Among them, 172 stores use promotion 1, 188 stores use promotion 2, and 188 stores use promotion 3. Variables include market information (MarketID, MarketSize), store information (LocationID, AgeOfStore), Promotion category, week number, and weekly sales. Among them, MarketID, LocationID, AgeOfStore, Promotion, and week is integer data, SalesInThousands is float data, and MarketSize is categorical data."
   ]
  },
  {
   "cell_type": "code",
   "execution_count": 1,
   "id": "9597f2d2",
   "metadata": {},
   "outputs": [],
   "source": [
    "#set up environment\n",
    "\n",
    "%matplotlib inline\n",
    "import pandas as pd\n",
    "import numpy as np\n",
    "import matplotlib.pyplot as plt\n",
    "import seaborn as sns\n",
    "import math\n",
    "from scipy import stats"
   ]
  },
  {
   "cell_type": "code",
   "execution_count": 2,
   "id": "c562dcf2",
   "metadata": {
    "scrolled": true
   },
   "outputs": [],
   "source": [
    "#read in data from local disk \n",
    "#Download \"WA_Marketing-Campaign.csv\" from https://www.kaggle.com/code/chebotinaa/a-b-testing-of-fast-food-marketing-campaign/data?select=WA_Marketing-Campaign.csv\n",
    "\n",
    "df = pd.read_csv(\"WA_Marketing-Campaign.csv\")"
   ]
  },
  {
   "cell_type": "code",
   "execution_count": 3,
   "id": "f0d169e1",
   "metadata": {},
   "outputs": [
    {
     "name": "stdout",
     "output_type": "stream",
     "text": [
      "<class 'pandas.core.frame.DataFrame'>\n",
      "RangeIndex: 548 entries, 0 to 547\n",
      "Data columns (total 7 columns):\n",
      " #   Column            Non-Null Count  Dtype  \n",
      "---  ------            --------------  -----  \n",
      " 0   MarketID          548 non-null    int64  \n",
      " 1   MarketSize        548 non-null    object \n",
      " 2   LocationID        548 non-null    int64  \n",
      " 3   AgeOfStore        548 non-null    int64  \n",
      " 4   Promotion         548 non-null    int64  \n",
      " 5   week              548 non-null    int64  \n",
      " 6   SalesInThousands  548 non-null    float64\n",
      "dtypes: float64(1), int64(5), object(1)\n",
      "memory usage: 30.1+ KB\n"
     ]
    },
    {
     "data": {
      "text/html": [
       "<div>\n",
       "<style scoped>\n",
       "    .dataframe tbody tr th:only-of-type {\n",
       "        vertical-align: middle;\n",
       "    }\n",
       "\n",
       "    .dataframe tbody tr th {\n",
       "        vertical-align: top;\n",
       "    }\n",
       "\n",
       "    .dataframe thead th {\n",
       "        text-align: right;\n",
       "    }\n",
       "</style>\n",
       "<table border=\"1\" class=\"dataframe\">\n",
       "  <thead>\n",
       "    <tr style=\"text-align: right;\">\n",
       "      <th></th>\n",
       "      <th>MarketID</th>\n",
       "      <th>MarketSize</th>\n",
       "      <th>LocationID</th>\n",
       "      <th>AgeOfStore</th>\n",
       "      <th>Promotion</th>\n",
       "      <th>week</th>\n",
       "      <th>SalesInThousands</th>\n",
       "    </tr>\n",
       "  </thead>\n",
       "  <tbody>\n",
       "    <tr>\n",
       "      <th>0</th>\n",
       "      <td>1</td>\n",
       "      <td>Medium</td>\n",
       "      <td>1</td>\n",
       "      <td>4</td>\n",
       "      <td>3</td>\n",
       "      <td>1</td>\n",
       "      <td>33.73</td>\n",
       "    </tr>\n",
       "    <tr>\n",
       "      <th>1</th>\n",
       "      <td>1</td>\n",
       "      <td>Medium</td>\n",
       "      <td>1</td>\n",
       "      <td>4</td>\n",
       "      <td>3</td>\n",
       "      <td>2</td>\n",
       "      <td>35.67</td>\n",
       "    </tr>\n",
       "    <tr>\n",
       "      <th>2</th>\n",
       "      <td>1</td>\n",
       "      <td>Medium</td>\n",
       "      <td>1</td>\n",
       "      <td>4</td>\n",
       "      <td>3</td>\n",
       "      <td>3</td>\n",
       "      <td>29.03</td>\n",
       "    </tr>\n",
       "    <tr>\n",
       "      <th>3</th>\n",
       "      <td>1</td>\n",
       "      <td>Medium</td>\n",
       "      <td>1</td>\n",
       "      <td>4</td>\n",
       "      <td>3</td>\n",
       "      <td>4</td>\n",
       "      <td>39.25</td>\n",
       "    </tr>\n",
       "    <tr>\n",
       "      <th>4</th>\n",
       "      <td>1</td>\n",
       "      <td>Medium</td>\n",
       "      <td>2</td>\n",
       "      <td>5</td>\n",
       "      <td>2</td>\n",
       "      <td>1</td>\n",
       "      <td>27.81</td>\n",
       "    </tr>\n",
       "  </tbody>\n",
       "</table>\n",
       "</div>"
      ],
      "text/plain": [
       "   MarketID MarketSize  LocationID  AgeOfStore  Promotion  week  \\\n",
       "0         1     Medium           1           4          3     1   \n",
       "1         1     Medium           1           4          3     2   \n",
       "2         1     Medium           1           4          3     3   \n",
       "3         1     Medium           1           4          3     4   \n",
       "4         1     Medium           2           5          2     1   \n",
       "\n",
       "   SalesInThousands  \n",
       "0             33.73  \n",
       "1             35.67  \n",
       "2             29.03  \n",
       "3             39.25  \n",
       "4             27.81  "
      ]
     },
     "execution_count": 3,
     "metadata": {},
     "output_type": "execute_result"
    }
   ],
   "source": [
    "#check data types of all variables\n",
    "df.info()\n",
    "df.head()"
   ]
  },
  {
   "cell_type": "code",
   "execution_count": 4,
   "id": "be32870c",
   "metadata": {
    "scrolled": true
   },
   "outputs": [
    {
     "data": {
      "text/plain": [
       "MarketID             10\n",
       "MarketSize            3\n",
       "LocationID          137\n",
       "AgeOfStore           25\n",
       "Promotion             3\n",
       "week                  4\n",
       "SalesInThousands    517\n",
       "dtype: int64"
      ]
     },
     "execution_count": 4,
     "metadata": {},
     "output_type": "execute_result"
    }
   ],
   "source": [
    "#check number of unique values in each variable\n",
    "\n",
    "df.nunique()"
   ]
  },
  {
   "cell_type": "code",
   "execution_count": 5,
   "id": "b100dae0",
   "metadata": {
    "scrolled": true
   },
   "outputs": [
    {
     "data": {
      "text/plain": [
       "3    188\n",
       "2    188\n",
       "1    172\n",
       "Name: Promotion, dtype: int64"
      ]
     },
     "execution_count": 5,
     "metadata": {},
     "output_type": "execute_result"
    }
   ],
   "source": [
    "# check numbers of store adopting 3 different promotion strategies\n",
    "\n",
    "df['Promotion'].value_counts()"
   ]
  },
  {
   "cell_type": "code",
   "execution_count": 6,
   "id": "b5349462",
   "metadata": {
    "scrolled": true
   },
   "outputs": [
    {
     "data": {
      "text/plain": [
       "Medium    320\n",
       "Large     168\n",
       "Small      60\n",
       "Name: MarketSize, dtype: int64"
      ]
     },
     "execution_count": 6,
     "metadata": {},
     "output_type": "execute_result"
    }
   ],
   "source": [
    "# check numbers of store in different size of market\n",
    "\n",
    "df['MarketSize'].value_counts()"
   ]
  },
  {
   "cell_type": "markdown",
   "id": "e869ac6f",
   "metadata": {},
   "source": [
    "## 4.\tMethods\n",
    "For this analysis, I will create three DataFrames containing the records for the stores adopting promotion 1, promotion 2, and promotion 3. I will compare the weekly sales (SalesInThousands) of the stores using every two promotions each time using A/B test. <br>\n",
    "If the distributions of weekly sales appear to be closed to normal distribution based on histogram, skewness, and kurtosis, I will also do an independent t-test between the groups at the two-tail, 95% confidence interval."
   ]
  },
  {
   "cell_type": "code",
   "execution_count": 7,
   "id": "200ec486",
   "metadata": {},
   "outputs": [],
   "source": [
    "#make a copy before wrangling data\n",
    "\n",
    "df_copy=df.copy()"
   ]
  },
  {
   "cell_type": "code",
   "execution_count": 8,
   "id": "42de0070",
   "metadata": {
    "scrolled": true
   },
   "outputs": [],
   "source": [
    "# create DataFrames df_1, df_2 and df_3 for the observations using promotion 1, 2, and 3 \n",
    "\n",
    "df_1 = df_copy[df_copy['Promotion']==1]\n",
    "df_2 = df_copy[df_copy['Promotion']==2]\n",
    "df_3 = df_copy[df_copy['Promotion']==3]"
   ]
  },
  {
   "cell_type": "code",
   "execution_count": 9,
   "id": "10cc3760",
   "metadata": {
    "scrolled": false
   },
   "outputs": [
    {
     "data": {
      "image/png": "[encoded data removed]",
      "text/plain": [
       "<Figure size 432x288 with 1 Axes>"
      ]
     },
     "metadata": {
      "needs_background": "light"
     },
     "output_type": "display_data"
    },
    {
     "name": "stdout",
     "output_type": "stream",
     "text": [
      "DescribeResult(nobs=172, minmax=(30.81, 99.65), mean=58.09901162790698, variance=274.0276884910921, skewness=0.8584598990251848, kurtosis=0.028427078029207298)\n",
      "DescribeResult(nobs=188, minmax=(17.34, 88.64), mean=47.32941489361701, variance=228.28051462908184, skewness=0.9205468089457273, kurtosis=0.6614223889447377)\n",
      "DescribeResult(nobs=188, minmax=(22.18, 96.48), mean=55.36446808510639, variance=281.10649436795995, skewness=0.7642424551272544, kurtosis=-0.17873345855514788)\n"
     ]
    }
   ],
   "source": [
    "plt.hist(df_1['SalesInThousands'],alpha=0.5)\n",
    "plt.hist(df_2['SalesInThousands'],alpha=0.5)\n",
    "plt.hist(df_3['SalesInThousands'],alpha=0.5)\n",
    "plt.show()\n",
    "print(stats.describe(df_1['SalesInThousands']))\n",
    "print(stats.describe(df_2['SalesInThousands']))\n",
    "print(stats.describe(df_3['SalesInThousands']))\n",
    "\n",
    "#Sales are close to normally distributed according to the histgram, skewness, and kurtosis."
   ]
  },
  {
   "cell_type": "code",
   "execution_count": 10,
   "id": "d1303724",
   "metadata": {},
   "outputs": [
    {
     "name": "stdout",
     "output_type": "stream",
     "text": [
      "Promotion1-2: Ttest_indResult(statistic=6.453671702181005, pvalue=3.5506696512134566e-10)\n",
      "Promotion1-3: Ttest_indResult(statistic=1.5551383687293547, pvalue=0.12079667272313277)\n",
      "Promotion2-3: Ttest_indResult(statistic=-4.88139271089348, pvalue=1.5628943036277377e-06)\n"
     ]
    }
   ],
   "source": [
    "print(\"Promotion 1-2:\",stats.ttest_ind(df_1['SalesInThousands'], df_2['SalesInThousands']))\n",
    "print(\"Promotion 1-3:\",stats.ttest_ind(df_1['SalesInThousands'], df_3['SalesInThousands']))\n",
    "print(\"Promotion 2-3:\",stats.ttest_ind(df_2['SalesInThousands'], df_3['SalesInThousands']))"
   ]
  },
  {
   "cell_type": "code",
   "execution_count": 12,
   "id": "d515ee80",
   "metadata": {},
   "outputs": [
    {
     "name": "stdout",
     "output_type": "stream",
     "text": [
      "For promotion 1 and 2: The difference in means at the 95% confidence interval (two-tail) is between 7.48553365499947 and 14.053659813580454.\n",
      "For promotion 2 and 3: The difference in means at the 95% confidence interval (two-tail) is between -11.261325935367037 and -4.808780447611529.\n",
      "58.099011627907046\n",
      "47.329414893617084\n",
      "55.36446808510637\n"
     ]
    }
   ],
   "source": [
    "# Confidence interval function\n",
    "\n",
    "def get_95_ci(array_1, array_2):\n",
    "    sample_1_n = array_1.shape[0]\n",
    "    sample_2_n = array_2.shape[0]\n",
    "    sample_1_mean = array_1.mean()\n",
    "    sample_2_mean = array_2.mean()\n",
    "    sample_1_var = array_1.var()\n",
    "    sample_2_var = array_2.var()\n",
    "    mean_difference = sample_1_mean - sample_2_mean\n",
    "    std_err_difference = math.sqrt((sample_1_var/sample_1_n)+(sample_2_var/sample_2_n))\n",
    "    margin_of_error = 1.96 * std_err_difference\n",
    "    ci_lower = mean_difference - margin_of_error\n",
    "    ci_upper = mean_difference + margin_of_error\n",
    "    return(\"The difference in means at the 95% confidence interval (two-tail) is between \"+str(ci_lower)+\" and \"+str(ci_upper)+\".\")\n",
    "\n",
    "print(\"For promotion 1 and 2:\",get_95_ci(df_1['SalesInThousands'], df_2['SalesInThousands']))\n",
    "print(\"For promotion 2 and 3:\",get_95_ci(df_2['SalesInThousands'], df_3['SalesInThousands']))\n",
    "\n",
    "# What is the average weekly sales on these three promotions?\n",
    "\n",
    "print(df_1['SalesInThousands'].mean())\n",
    "print(df_2['SalesInThousands'].mean())\n",
    "print(df_3['SalesInThousands'].mean())"
   ]
  },
  {
   "cell_type": "markdown",
   "id": "f174e7f5",
   "metadata": {},
   "source": [
    "## 5.\tResults\n",
    "Based on p<<0.05 of t-test for promotion 1-2, I refject the null H0 for hypothesis 1.--there is significant difference in SalesInThousands between promotion 1 and 2.<br>\n",
    "Based on p<<0.05 of t-test for promotion 2-3, I refject the null H0 for hypothesis 1 and 3.--there is significant difference in SalesInThousands between promotion 1 and 2, promotion 2 and 3.<br>\n",
    "Based on p=0.12 of t-test for promotion 1-3, I fail to reject the null H0 of hypothesis 2 -- there is no significant difference in SalesInThousands between promotion 1 and 3."
   ]
  },
  {
   "cell_type": "markdown",
   "id": "66c414fa",
   "metadata": {},
   "source": [
    "## 6.\tDiscussion and recommendation\n",
    "Weekly sales using promotion 1 are on average significantly higher than the one using promotion 2. Weekly sales using promotion 3 are on average significantly higher than the one using promotion 2. There is no significant difference in the weekly sales using promotion 1 and 3. \n",
    "Therefore, I will suggest the company market team choosing promotion 1 or promotion 3 for launching the new product in all stores.<br>\n",
    "As a next step in the decision process, I will examine the effect of promotion strategies on the weekly sales for longer time not limited to 4 weeks. Moreover, I will also examine the effect of promotions on the sales of different stores in different locations or market sizes, and effect on new stores or old stores as well.Then the company marketing team can use different promotion strategies for different stores to get the most sales of the new product."
   ]
  }
 ],
 "metadata": {
  "kernelspec": {
   "display_name": "Python 3 (ipykernel)",
   "language": "python",
   "name": "python3"
  },
  "language_info": {
   "codemirror_mode": {
    "name": "ipython",
    "version": 3
   },
   "file_extension": ".py",
   "mimetype": "text/x-python",
   "name": "python",
   "nbconvert_exporter": "python",
   "pygments_lexer": "ipython3",
   "version": "3.9.7"
  }
 },
 "nbformat": 4,
 "nbformat_minor": 5
}
